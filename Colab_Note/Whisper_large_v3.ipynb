{
  "nbformat": 4,
  "nbformat_minor": 0,
  "metadata": {
    "colab": {
      "provenance": [],
      "gpuType": "T4",
      "authorship_tag": "ABX9TyMFwiKS2Fx+j8SVR5LCBEm6",
      "include_colab_link": true
    },
    "kernelspec": {
      "name": "python3",
      "display_name": "Python 3"
    },
    "language_info": {
      "name": "python"
    },
    "accelerator": "GPU"
  },
  "cells": [
    {
      "cell_type": "markdown",
      "metadata": {
        "id": "view-in-github",
        "colab_type": "text"
      },
      "source": [
        "<a href=\"https://colab.research.google.com/github/nekoniii3/openai_3syu/blob/main/Colab_Note/Whisper_large_v3.ipynb\" target=\"_parent\"><img src=\"https://colab.research.google.com/assets/colab-badge.svg\" alt=\"Open In Colab\"/></a>"
      ]
    },
    {
      "cell_type": "markdown",
      "source": [
        "# **Whisper large-v3ダウンロード版（APIキー不要）**\n",
        "## **①～③を順番に実行してください<br>※最初に上部のランタイムからGPU（T4GPUなど）に変更して下さい**"
      ],
      "metadata": {
        "id": "sWXwlDQklB96"
      }
    },
    {
      "cell_type": "markdown",
      "source": [
        "# **①whisperなどインストール**"
      ],
      "metadata": {
        "id": "-9Yzq9f3fayH"
      }
    },
    {
      "cell_type": "code",
      "source": [
        "!pip install gradio==4.19.2\n",
        "!pip install openai-whisper==20231117"
      ],
      "metadata": {
        "id": "D-pnf1A2HNjj"
      },
      "execution_count": null,
      "outputs": []
    },
    {
      "cell_type": "markdown",
      "source": [
        "# **②large-v3モデルダウンロード（時間がかかります）**"
      ],
      "metadata": {
        "id": "VnbE0bCRfgqP"
      }
    },
    {
      "cell_type": "code",
      "source": [
        "import whisper\n",
        "\n",
        "model_size = \"large-v3\"\n",
        "\n",
        "model = whisper.load_model(model_size)"
      ],
      "metadata": {
        "id": "94NY65NBIRYU"
      },
      "execution_count": null,
      "outputs": []
    },
    {
      "cell_type": "markdown",
      "source": [
        "# **③アプリ起動**"
      ],
      "metadata": {
        "id": "4JJWfjUWpDgV"
      }
    },
    {
      "cell_type": "code",
      "source": [
        "import os\n",
        "import gradio as gr\n",
        "\n",
        "audio_format = [\".mp3\", \".mp4\", \".mpeg\", \".mpga\", \".m4a\", \".wav\", \".webm\"\n",
        "                ,\".MP3\", \".MP4\", \".MPEG\", \".MPGA\", \".M4A\", \".WAV\", \".WEBM\"]\n",
        "\n",
        "lang_code = {'Japanese': \"ja\", 'English': \"en\"}\n",
        "mode_code = {'文字': \"transcribe\", '翻訳': \"translate\"}\n",
        "\n",
        "max_file_size = 25 * 1024 * 1024\n",
        "\n",
        "def set_state(openai_key, lang, mode, state):\n",
        "\n",
        "    state[\"openai_key\"]= openai_key\n",
        "    state[\"lang\"] = lang_code[lang]\n",
        "    state[\"mode\"] = mode_code[mode[0:2]]\n",
        "\n",
        "    return state\n",
        "\n",
        "def create_textfile(voice_msg, up_file ,state):\n",
        "\n",
        "    # ファイル入力チェック\n",
        "    if up_file is None:\n",
        "\n",
        "        err_msg = \"ファイルをアップしてください。\"\n",
        "\n",
        "        return None, None, \"\", None, err_msg\n",
        "\n",
        "    # ファイルパスなど取得\n",
        "    file_name = os.path.splitext(os.path.basename(up_file.name))[0]\n",
        "    root, ext = os.path.splitext(up_file.name)\n",
        "\n",
        "    if ext not in audio_format:\n",
        "\n",
        "        # ファイル形式チェック\n",
        "        err_msg = \"指定した形式のファイルをアップしてください。（mp3, mp4, mpeg, mpga, m4a, wav, webm）\"\n",
        "\n",
        "        return None, None, \"\", None, err_msg\n",
        "\n",
        "    file_size = os.path.getsize(up_file.name)\n",
        "\n",
        "    if file_size >= max_file_size:\n",
        "\n",
        "        # ファイルサイズチェック\n",
        "        err_msg = \"ファイルが大きすぎます。25MB未満にして下さい。\"\n",
        "\n",
        "        return None, up_file.name, \"\", None, err_msg\n",
        "\n",
        "    try:\n",
        "\n",
        "        result = model.transcribe(up_file.name, language=state[\"lang\"])\n",
        "\n",
        "        trans_text = result[\"text\"]\n",
        "\n",
        "        # ファイル名設定\n",
        "        trans_file = file_name + \"_whisper.txt\"\n",
        "\n",
        "        with open(trans_file, mode=\"w\") as f:\n",
        "\n",
        "            # テキストに書き出す\n",
        "            f.write(trans_text)\n",
        "\n",
        "        return None, None, trans_text, trans_file, \"\"\n",
        "\n",
        "    except Exception as e:\n",
        "\n",
        "        return voice_msg, None, \"\", None, e\n",
        "\n",
        "\n",
        "with gr.Blocks() as demo:\n",
        "\n",
        "    title = \"<h2>Whisperデモアプリ</h2>\"\n",
        "\n",
        "    # セッションの宣言\n",
        "    state = gr.State({\n",
        "        \"openai_key\" : \"\",\n",
        "        \"lang\": \"Japanese\",\n",
        "        \"mode\" : \"\",\n",
        "    })\n",
        "\n",
        "    with gr.Tab(\"whisperを利用する\") as maintab:\n",
        "\n",
        "      # 各コンポーネント定義\n",
        "      voice_msg=gr.components.Audio(sources=\"upload\",type=\"filepath\", label=\"音声入力\", visible= False)\n",
        "      up_file = gr.File(file_types=[\".mp3\", \".mp4\", \".mpeg\", \".mpga\", \".m4a\", \".wav\", \".webm\"], label=\"音声ファイルアップロード\")\n",
        "\n",
        "      # ボタン類\n",
        "      with gr.Row():\n",
        "        btn = gr.Button(\"文字に起こす\")\n",
        "        clear = gr.ClearButton([voice_msg, up_file], value=\"クリア\")\n",
        "\n",
        "      # 出力\n",
        "      sys_msg = gr.Text(label=\"システムメッセージ\")\n",
        "      text = gr.TextArea(label=\"文字起こし内容\")\n",
        "      file = gr.File(label=\"出力テキストファイル\")\n",
        "\n",
        "      # 送信ボタンクリック時の処理\n",
        "      btn.click(create_textfile, inputs=[voice_msg, up_file, state], outputs=[voice_msg, up_file, text, file, sys_msg], queue=False)\n",
        "\n",
        "    with gr.Tab(\"設定\") as settab:\n",
        "      openai_key = gr.Textbox(label=\"OpenAI API Key\", interactive = True, visible= False)\n",
        "      lang = gr.Dropdown(label=\"Language\", choices=[\"Japanese\", \"English\"], value = \"Japanese\", interactive = True)\n",
        "      mode = gr.Dropdown(label=\"Mode\", choices=[\"文字起こし\", \"翻訳＋文字起こし\"], value = \"文字起こし\", interactive = True, visible= False)\n",
        "\n",
        "      # 設定変更時\n",
        "      maintab.select(set_state, [openai_key, lang, mode, state], state)\n",
        "\n",
        "    with gr.Tab(\"利用上の注意\"):\n",
        "\n",
        "      caution = \"利用上の注意<br>\"\n",
        "      caution += \"・文字に起こせるファイル形式は mp3, mp4, mpeg, mpga, m4a, wav, webm のみです。<br>\"\n",
        "      caution += \"・ファイルのサイズ上限は25MBです。<br>\"\n",
        "      # caution += \"・翻訳は日本語の音声を英語のテキストに変えます。英語の音声→日本語はできません。<br>\"\n",
        "      caution += \"<br>免責事項<br>本アプリはOpenAIのAPIで製作されており、利用で生じた損害について一切の責任を負えません。\"\n",
        "      gr.Markdown(\"<h3>\" + caution + \"</h3>\")\n",
        "\n",
        "demo.queue()\n",
        "demo.launch(debug=True)"
      ],
      "metadata": {
        "colab": {
          "base_uri": "https://localhost:8080/",
          "height": 667
        },
        "id": "kiJYycg0c4ep",
        "outputId": "6c492eca-c9ef-4f17-95fe-a57c071d0dc1"
      },
      "execution_count": null,
      "outputs": [
        {
          "output_type": "stream",
          "name": "stdout",
          "text": [
            "Setting queue=True in a Colab notebook requires sharing enabled. Setting `share=True` (you can turn this off by setting `share=False` in `launch()` explicitly).\n",
            "\n",
            "Colab notebook detected. This cell will run indefinitely so that you can see errors and logs. To turn off, set debug=False in launch().\n",
            "Running on public URL: https://9af389bce2d6e7e6dd.gradio.live\n",
            "\n",
            "This share link expires in 72 hours. For free permanent hosting and GPU upgrades, run `gradio deploy` from Terminal to deploy to Spaces (https://huggingface.co/spaces)\n"
          ]
        },
        {
          "output_type": "display_data",
          "data": {
            "text/plain": [
              "<IPython.core.display.HTML object>"
            ],
            "text/html": [
              "<div><iframe src=\"https://9af389bce2d6e7e6dd.gradio.live\" width=\"100%\" height=\"500\" allow=\"autoplay; camera; microphone; clipboard-read; clipboard-write;\" frameborder=\"0\" allowfullscreen></iframe></div>"
            ]
          },
          "metadata": {}
        },
        {
          "output_type": "stream",
          "name": "stdout",
          "text": [
            "Keyboard interruption in main thread... closing server.\n",
            "Killing tunnel 127.0.0.1:7860 <> https://9af389bce2d6e7e6dd.gradio.live\n"
          ]
        },
        {
          "output_type": "execute_result",
          "data": {
            "text/plain": []
          },
          "metadata": {},
          "execution_count": 7
        }
      ]
    }
  ]
}